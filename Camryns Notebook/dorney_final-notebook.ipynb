{
 "cells": [
  {
   "cell_type": "markdown",
   "metadata": {},
   "source": [
    "# Police Incident Blotter (Archive):\n",
    "----"
   ]
  },
  {
   "cell_type": "markdown",
   "metadata": {},
   "source": [
    "## Introduction:"
   ]
  },
  {
   "cell_type": "markdown",
   "metadata": {},
   "source": [
    "## The Metric:"
   ]
  },
  {
   "cell_type": "markdown",
   "metadata": {},
   "source": [
    "## The Best Neighborhood (based on my own personal findings):"
   ]
  },
  {
   "cell_type": "code",
   "execution_count": 24,
   "metadata": {},
   "outputs": [
    {
     "name": "stdout",
     "output_type": "stream",
     "text": [
      "{'Squirrel Hill North': 1110, 'Shadyside': 1419, 'Bedford Dwellings': 308, 'Lincoln-Lemington-Belmar': 1680, 'Lower Lawrenceville': 606, 'Central Lawrenceville': 1332, 'Golden Triangle/Civic Arena': 3524, 'Carrick': 1887, 'Highland Park': 1105, 'South Side Flats': 2720, 'Middle Hill': 738, 'North Oakland': 1644, 'Bloomfield': 2811, 'Outside City': 842, 'East Hills': 1226, 'Knoxville': 1716, 'Point Breeze': 839, 'Central Oakland': 1891, 'Brighton Heights': 1228, 'Point Breeze North': 640, 'Homewood North': 1294, 'Regent Square': 187, 'Homewood West': 1017, 'Homewood South': 2187, 'Perry North': 611, nan: 710, 'West Oakland': 405, 'Hazelwood': 379, 'St. Clair': 559, 'Northview Heights': 588, 'Oakwood': 142, 'Arlington': 626, 'North Shore': 547, 'Westwood': 497, 'Upper Hill': 416, 'Polish Hill': 134, 'Crawford-Roberts': 304, 'Lincoln Place': 424, 'Allegheny West': 418, 'Larimer': 1077, 'Glen Hazel': 121, 'Bon Air': 200, 'Arlington Heights': 121, 'Allentown': 1036, 'New Homestead': 77, 'Hays': 145, 'Central Northside': 636, 'Stanton Heights': 261, 'Allegheny Center': 603, 'Friendship': 642, 'East Carnegie': 130, 'Fairywood': 175, 'Windgap': 199, 'Squirrel Hill South': 863, 'Mt. Oliver Neighborhood': 107, 'Marshall-Shadeland': 69, 'Mount Washington': 179, 'Summer Hill': 106, 'Swisshelm Park': 76, 'Ridgemont': 179, 'Outside State': 13, 'Outside County': 7, 'East Liberty': 3, 'Sheraden': 1, 'Morningside': 2, 'Garfield': 1, 'Upper Lawrenceville': 1, 'Spring Garden': 1, 'Crafton Heights': 1, 'Troy Hill-Herrs Island': 1, 'Beechview': 1, 'California-Kirkbride': 1, 'Greenfield': 1, 'Bluff': 1, 'Elliott': 1, 'East Allegheny': 1}\n"
     ]
    },
    {
     "data": {
      "image/png": "[encoded data removed]",
      "text/plain": [
       "<Figure size 432x288 with 1 Axes>"
      ]
     },
     "metadata": {
      "needs_background": "light"
     },
     "output_type": "display_data"
    }
   ],
   "source": [
    "import pandas as pd\n",
    "import matplotlib.pyplot as plt\n",
    "\n",
    "incidents = pd.read_csv(\"incidents.csv\")\n",
    "\n",
    "incidents = incidents.loc[:,\"INCIDENTNEIGHBORHOOD\"]\n",
    "\n",
    "neighborhood_dict = dict()\n",
    "\n",
    "for INCIDENTNEIGHBORHOOD in incidents:\n",
    "    if INCIDENTNEIGHBORHOOD not in neighborhood_dict:\n",
    "        neighborhood_dict[INCIDENTNEIGHBORHOOD] = 1\n",
    "    else:\n",
    "        neighborhood_dict[INCIDENTNEIGHBORHOOD] = neighborhood_dict[INCIDENTNEIGHBORHOOD] + 1\n",
    "    \n",
    "print(neighborhood_dict)        \n",
    "        \n",
    "names = list(neighborhood_dict.keys())\n",
    "values = list(neighborhood_dict.values())\n",
    "\n",
    "plt.bar(range(len(neighborhood_dict)), values, tick_label=names)\n",
    "plt.show()"
   ]
  },
  {
   "cell_type": "markdown",
   "metadata": {},
   "source": [
    "## Conclusion:"
   ]
  },
  {
   "cell_type": "code",
   "execution_count": null,
   "metadata": {},
   "outputs": [],
   "source": []
  }
 ],
 "metadata": {
  "kernelspec": {
   "display_name": "Python 3",
   "language": "python",
   "name": "python3"
  },
  "language_info": {
   "codemirror_mode": {
    "name": "ipython",
    "version": 3
   },
   "file_extension": ".py",
   "mimetype": "text/x-python",
   "name": "python",
   "nbconvert_exporter": "python",
   "pygments_lexer": "ipython3",
   "version": "3.8.3"
  }
 },
 "nbformat": 4,
 "nbformat_minor": 4
}
