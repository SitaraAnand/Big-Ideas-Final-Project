{
 "cells": [
  {
   "cell_type": "markdown",
   "metadata": {},
   "source": [
    "# Group 48's Final Project\n",
    "---"
   ]
  },
  {
   "cell_type": "markdown",
   "metadata": {},
   "source": [
    "## Introduction:\n",
    "\n",
    "Our group has chosen to look at datasets pretaining to police activity. What we were looking for in order to determine which was \"the best neighborhood in Pittsburgh\" was the one with the least police activity. Typically, the less police activity, the less crime and the safer the neighborhood, hence why we went this route. We were initially looking to see how \"bike friendly\" each neighborhood was, but sadly the datasets that were available did not provide us with enough information to work with. From there we decided to turn to looking at fires or something related to fire in each neighborhood, but similar to the bikes, there wasn't enough data that pretained to what we were looking for. From the topic of fires, we then switched and fully settled on something simiar: *police activity.* \n",
    "\n",
    "---"
   ]
  },
  {
   "cell_type": "markdown",
   "metadata": {},
   "source": [
    "## The Metric:\n",
    "\n",
    "Describe your metric, what features are you measuring. What datasets are you using?\n",
    "\n",
    "Our metric deals with looking at police activity, which can be anything from small crimes to full on incidents, in order to determine which neighborhood in Pittsburgh is the best. The datasets in which we are using deal with the following:\n",
    "\n",
    "* Non Traffic Citations - \n",
    "* Police Incident Blotter - A list of incidents such as murders, identity theft, drug possession, vehicle theft, etc... that required police interfering\n",
    "* Arrest Data - Information on people taken into custody by City of Pittsburgh police officers.\n",
    "\n",
    "Essentially, what we are looking to measure is how often police have to intervene within each Pittsburgh neighborhood. We are looking to find the neighborhood with the least police interference, as less interference by the police most likely means the neigborhood is more \"peaceful\" and more safe to live in. "
   ]
  },
  {
   "cell_type": "markdown",
   "metadata": {},
   "source": [
    "## The Best Neighborhood:"
   ]
  },
  {
   "cell_type": "markdown",
   "metadata": {},
   "source": [
    "## Conclusion:"
   ]
  }
 ],
 "metadata": {
  "kernelspec": {
   "display_name": "Python 3",
   "language": "python",
   "name": "python3"
  },
  "language_info": {
   "codemirror_mode": {
    "name": "ipython",
    "version": 3
   },
   "file_extension": ".py",
   "mimetype": "text/x-python",
   "name": "python",
   "nbconvert_exporter": "python",
   "pygments_lexer": "ipython3",
   "version": "3.8.3"
  }
 },
 "nbformat": 4,
 "nbformat_minor": 4
}
